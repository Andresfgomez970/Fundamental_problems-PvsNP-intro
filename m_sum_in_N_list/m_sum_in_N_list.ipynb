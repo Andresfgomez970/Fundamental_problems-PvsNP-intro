{
 "cells": [
  {
   "cell_type": "markdown",
   "metadata": {},
   "source": [
    "# About a inocent problem that turns out to be NP-complete\n",
    "\n",
    "It turns to me incredible the fact that an apparent simple problem of searching in a list (efficiently), a set of numbers that will turn out to add up to a given number could be one of the problem of the million; furthermore the implications in our knowledge impact me even more. But without going in the detail I propose mysef to solve these problem in several ways to get a feeling and invite others to do it. In the following I solve the propose problem in the golden ticket (<b>cite required</b>) book and later and also generalize it to similar ones. \n",
    "\n",
    "## Problem statement\n",
    "\n",
    "We have in the following a list of 38 numbers: \n",
    "\n",
    "14,175, 15,055, 16,616, 17,495, 18,072, 19,390, 19,731, 22,161, 23,320,\n",
    "23,717, 26,343, 28,725, 29,127, 32,257, 40,020, 41,867, 43,155, 46,298,\n",
    "56,734, 57,176, 58,306, 61,848, 65,825, 66,042, 68,634, 69,189, 72,936,\n",
    "74,287, 74,537, 81,942, 82,027, 82,623, 82,802, 82,988, 90,467, 97,042,\n",
    "97,507, 99,564.\n",
    "\n",
    "The question is: can you group them in two groups of 19 such that it adds to 1 million is gruop.\n",
    "\n",
    "## First approach to the solution\n",
    "\n",
    "As a good physicisist I first tried to consider. Okay I could make all the possible permuations of the prices and then, take the ones that are suitable for the task. So, I desired to change the representation of the problem first to something that I learnt to do right since little! To count! Okay... not really because I will count in an arbitrary base. As you are probably supecting each number count in such base will reprsent one possibility. If I did not explain myself consistently in the following lines I will try to make all clear. \n",
    "\n",
    "Suppose you have a coin, you could represent its state by 0 or 1.\n",
    "\n",
    "Now, suppose you have two coins, all possible states are 00, 10, 01, 11.\n",
    "\n",
    "Now 3 dices: 000, 100, 200, 300 ...., 600, 010, 110, ..., 610, 020, ...., 666.  \n",
    "\n",
    "So you get the idea! If not go to read about numbers in differen bases.\n",
    "\n",
    "So, basically if the number n is denfined to be n==list[ n ], such that: \n",
    "\n",
    "012 == list[0], list[1], list[2]\n",
    "\n",
    "Note: only perhaps for important or pedantic puposes it is valuable to say that the dices and coins are distinguishable.\n",
    "\n",
    "It becomes evident (after thinking hours in my case hahaha) that if we want all the combinations of possible numbers in the list of a given lenght, the number of digits will represent the lenght of the sublist, the base the number of possibilities for each position (lenght of the list).\n",
    "\n",
    "And so the algorithm was constructed altough it obviusly explore not necessary cases (as permuted objects are quivalent, e.g. 01==10). At the same it lack in the capacity of deciding if two sublist are different when its numerical values are the same. I mean, it is clear that (list[0]list[1] != list[1]list[1])01!=11, but if list[1]==list[0] they are the same numerical value, and if this are the sublist that we need to find they would not be identified as equally.\n",
    "\n",
    "Anyway, it was the fist approach and it will die with the problem in my PC anyway hahaha. \n",
    "\n"
   ]
  },
  {
   "cell_type": "code",
   "execution_count": 2,
   "metadata": {},
   "outputs": [
    {
     "name": "stdout",
     "output_type": "stream",
     "text": [
      "[[3. 1. 1.]\n",
      " [0. 4. 1.]]\n"
     ]
    }
   ],
   "source": [
    "import numpy as np\n",
    "\n",
    "# Number of possibilities in each position\n",
    "base = 6\n",
    "# Lenght of the sublist to be explored\n",
    "number_of_digits = 3\n",
    "# Calculating number of total configurations\n",
    "total_config = base**number_of_digits\n",
    "# How many list have been found at moment\n",
    "results_counter = 0\n",
    "# Value to be found to be sum up by the sublist\n",
    "sum_value = 5\n",
    "\n",
    "# Test data\n",
    "numbers = np.array([1, 4, 3, 0, 2, 7])\n",
    "# Array to save the sublist that is being constructud to obtain the\n",
    "#   sum decired in lenght desired\n",
    "lista_good = np.ones(number_of_digits) * sum_value\n",
    "# Number of sublist that we are intended to seach in numbers\n",
    "stop_number = 2\n",
    "# Array to save sucess lists\n",
    "save_list = np.ones([stop_number, number_of_digits])\n",
    "\n",
    "for i in range(total_config):\n",
    "    dummy = i\n",
    "    for k in range(number_of_digits):\n",
    "        steps = dummy % base\n",
    "        lista_good[k] = numbers[steps]\n",
    "        dummy = int(dummy / base)\n",
    "    if(lista_good.sum() == sum_value):\n",
    "        save_list[results_counter, :] = np.copy(lista_good)\n",
    "        results_counter += 1\n",
    "    if(results_counter == 2):\n",
    "        a = save_list[0, :] == save_list[1, :]\n",
    "        if (all(a)):\n",
    "            results_counter = 1\n",
    "        else:\n",
    "            break\n",
    "\n",
    "    # print(lista_good,end=\"\")\n",
    "    # print(\"\")\n",
    "\n",
    "print(save_list)\n"
   ]
  },
  {
   "cell_type": "markdown",
   "metadata": {},
   "source": [
    "## Second approach to the solution\n",
    "\n"
   ]
  },
  {
   "cell_type": "code",
   "execution_count": null,
   "metadata": {},
   "outputs": [],
   "source": []
  }
 ],
 "metadata": {
  "kernelspec": {
   "display_name": "Python 3",
   "language": "python",
   "name": "python3"
  },
  "language_info": {
   "codemirror_mode": {
    "name": "ipython",
    "version": 3
   },
   "file_extension": ".py",
   "mimetype": "text/x-python",
   "name": "python",
   "nbconvert_exporter": "python",
   "pygments_lexer": "ipython3",
   "version": "3.7.3"
  }
 },
 "nbformat": 4,
 "nbformat_minor": 2
}
